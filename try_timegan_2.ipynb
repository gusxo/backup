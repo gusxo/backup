{
 "cells": [
  {
   "cell_type": "code",
   "execution_count": 4,
   "metadata": {},
   "outputs": [],
   "source": [
    "import pandas as pd\n",
    "import numpy as np\n",
    "import matplotlib.pyplot as plt\n",
    "from scipy import signal\n",
    "import math\n",
    "from utils import *"
   ]
  },
  {
   "cell_type": "code",
   "execution_count": 5,
   "metadata": {},
   "outputs": [],
   "source": [
    "def load_all_data(dir, filecnt=54):\n",
    "    data = [None]*10\n",
    "    t = np.zeros((10, filecnt), int)\n",
    "    for p in range(10):\n",
    "        d = [None]*filecnt\n",
    "        for i in range(filecnt):\n",
    "            d[i] = np.load(f\"{dir}/{p}/{i+1}.npy\")\n",
    "            t[p,i] = d[i].shape[0]\n",
    "        data[p] = d\n",
    "    return data, t\n",
    "\n",
    "def load_with_config(dir, config_path, load_nonvalid=False):\n",
    "    config_arr = np.array(pd.read_csv(f\"{config_path}\", header=None, skiprows=1))\n",
    "    data = [[] for i in range(10)]          #create empty 2d list : (10, unknown)\n",
    "    for config in config_arr:\n",
    "        #valid check\n",
    "        if (not config[2]) and (not load_nonvalid):\n",
    "            continue\n",
    "        data[int(config[0])] += [np.load(f\"{dir}/{int(config[0])}/{int(config[1])+1}.npy\")[int(config[3]):int(config[4]),:]]\n",
    "    \n",
    "    return data, config_arr\n",
    "\n",
    "def match_length(d, t:int):\n",
    "    \"\"\"\n",
    "    return\n",
    "        x : (N, times(t), 2) shape numpy array,\n",
    "        y : (N)\n",
    "    \"\"\"\n",
    "    N = sum([len(d[i]) for i in range(len(d))])\n",
    "    x = np.zeros((N, t, 2), np.float64)\n",
    "    y = np.zeros((N), np.float64)\n",
    "    target_timepoints = np.linspace(0, 1, t)\n",
    "    start_at = 0\n",
    "    for r in range(len(d)):\n",
    "        for c in range(len(d[r])):\n",
    "            origin_timepoints = np.linspace(0, 1, d[r][c].shape[0])\n",
    "            x[start_at + c, :, 0] = np.interp(target_timepoints, origin_timepoints, d[r][c][:,0])\n",
    "            x[start_at + c, :, 1] = np.interp(target_timepoints, origin_timepoints, d[r][c][:,1])\n",
    "        y[start_at:start_at + len(d[r])] = r\n",
    "        start_at += len(d[r])\n",
    "    return x, y \n",
    "\n",
    "def apply_normalize(d):\n",
    "    for r in range(len(d)):\n",
    "        for c in range(len(d[r])):\n",
    "            channels = d[r][c].shape[1]\n",
    "            min_vals = np.min(d[r][c][:, :], axis=0)\n",
    "            max_vals = np.max(d[r][c][:, :], axis=0)\n",
    "            min_max_diff = np.array([max_vals[j] - min_vals[j] for j in range(channels)])\n",
    "            factor = min_max_diff / np.max(min_max_diff)\n",
    "            for ch in range(channels):\n",
    "                d[r][c][:, ch] = ((d[r][c][:, ch] - min_vals[ch])/min_max_diff[ch])*factor[ch]\n",
    "    \n",
    "def plot_data(d):\n",
    "    plt.figure(figsize=(20,4))\n",
    "    plt.subplot(2,1,1)\n",
    "    gca = plt.gca()\n",
    "    gca.plot(d[:,0])\n",
    "    plt.subplot(2,1,2)\n",
    "    gca = plt.gca()\n",
    "    gca.plot(d[:,1])\n",
    "    plt.tight_layout()\n",
    "    plt.show()\n",
    "\n",
    "def plot_data2(d, save=None, cmap_name=\"gist_rainbow\", xlim1=None, ylim1=None, xlim2=None, ylim2=None, xlim3=None, ylim3=None):\n",
    "    fig, axes = plt.subplot_mosaic(\"abbbb;acccc\", figsize=(20,4))\n",
    "    draw_gradation(d[:,0], d[:,1], axes[\"a\"],cmap_name=cmap_name, xlim=xlim1, ylim=ylim1)\n",
    "    draw_gradation(np.arange(d.shape[0]), d[:,0], axes[\"b\"],cmap_name=cmap_name, xlim=xlim2, ylim=ylim2)\n",
    "    draw_gradation(np.arange(d.shape[0]), d[:,1], axes[\"c\"],cmap_name=cmap_name, xlim=xlim3, ylim=ylim3)\n",
    "\n",
    "    plt.tight_layout()\n",
    "    if save is None:\n",
    "        plt.show()\n",
    "    else:\n",
    "        plt.savefig(save)\n",
    "        plt.close()\n",
    "\n",
    "def plot_data3(origin, syn, save, cmap_name=\"gist_rainbow\"):\n",
    "    fig, axes = plt.subplot_mosaic(\"abbbb;acccc;deeee;dffff\", figsize=(20,8))\n",
    "    draw_gradation(origin[:,0], origin[:,1], axes[\"a\"],cmap_name=cmap_name, xlim=[0,1], ylim=[0,1])\n",
    "    draw_gradation(np.arange(origin.shape[0]), origin[:,0], axes[\"b\"],cmap_name=cmap_name, ylim=[0,1])\n",
    "    draw_gradation(np.arange(origin.shape[0]), origin[:,1], axes[\"c\"],cmap_name=cmap_name, ylim=[0,1])\n",
    "    draw_gradation(syn[:,0], syn[:,1], axes[\"d\"], cmap_name=cmap_name, xlim=[0,1], ylim=[0,1])\n",
    "    draw_gradation(np.arange(syn.shape[0]), syn[:,0], axes[\"e\"],cmap_name=cmap_name, ylim=[0,1])\n",
    "    draw_gradation(np.arange(syn.shape[0]), syn[:,1], axes[\"f\"],cmap_name=cmap_name, ylim=[0,1])\n",
    "    axes[\"a\"].set_title(\"Original\")\n",
    "    axes[\"d\"].set_title(\"Synthetic\")\n",
    "\n",
    "    plt.tight_layout()\n",
    "    if save is None:\n",
    "        plt.show()\n",
    "    else:\n",
    "        plt.savefig(save)\n",
    "        plt.close()"
   ]
  },
  {
   "cell_type": "code",
   "execution_count": 6,
   "metadata": {},
   "outputs": [],
   "source": [
    "data, config = load_with_config(\"/home/user/workspace/research/eye-writing/self_data/\", \"/home/user/workspace/research/eye-writing/load_data_config.csv\", load_nonvalid=False)\n",
    "apply_normalize(data)\n",
    "# plot_data2(data[9][53], xlim1=[0, 1], ylim1=[0,1], ylim2=[0,1], ylim3=[0,1])"
   ]
  },
  {
   "cell_type": "code",
   "execution_count": 7,
   "metadata": {},
   "outputs": [],
   "source": [
    "# target_data = data\n",
    "# save_dir = \"/home/user/img\"\n",
    "# for r in range(len(target_data)):\n",
    "#     target_pattern_config = config[config[:,0] == r, :]\n",
    "#     indexes = target_pattern_config[target_pattern_config[:,2]==1, 1]\n",
    "#     print(f\"pattern {r}, length = {len(target_data[r])}, indexes len = {indexes.shape}\")\n",
    "#     for c in range(len(target_data[r])):\n",
    "#         plot_data2(target_data[r][c], save=f\"{save_dir}/Pattern_{r}_Index_{indexes[c]}.png\", cmap_name=\"gist_rainbow\", xlim1=[0, 1], ylim1=[0,1], ylim2=[0,1], ylim3=[0,1])"
   ]
  },
  {
   "cell_type": "code",
   "execution_count": 8,
   "metadata": {},
   "outputs": [
    {
     "name": "stdout",
     "output_type": "stream",
     "text": [
      "(505, 200, 2)\n",
      "(505,)\n",
      "(50, 200, 2)\n"
     ]
    }
   ],
   "source": [
    "x, y = match_length(data, 200)\n",
    "print(x.shape)\n",
    "print(y.shape)\n",
    "pattern = 8\n",
    "x = x[y==pattern]\n",
    "print(x.shape)\n"
   ]
  },
  {
   "cell_type": "code",
   "execution_count": 9,
   "metadata": {},
   "outputs": [],
   "source": [
    "# target_data = x\n",
    "# save_dir = \"/home/user/img\"\n",
    "# for i in range(len(target_data)):\n",
    "#     plot_data2(target_data[i], f\"{save_dir}/{i}.png\", \"gist_rainbow\",  xlim1=[0, 1], ylim1=[0,1], ylim2=[0,1], ylim3=[0,1])"
   ]
  },
  {
   "cell_type": "code",
   "execution_count": 38,
   "metadata": {},
   "outputs": [],
   "source": [
    "import tensorflow as tf\n",
    "import tensorflow.keras as keras\n",
    "from tqdm import trange\n",
    "\n",
    "def get_model(input_shape, output_units, rnn_units, layer_cnt):\n",
    "    inputs = keras.layers.Input(input_shape)\n",
    "    x = inputs\n",
    "    for i in range(layer_cnt):\n",
    "        x = keras.layers.GRU(rnn_units, return_sequences=True)(x)\n",
    "    outputs = keras.layers.Dense(output_units, activation=\"sigmoid\")(x)\n",
    "    return keras.Model(inputs, outputs)\n",
    "\n",
    "def init_timegan(input_shape, units=24, layers=3):\n",
    "    latent_code_shape = (input_shape[0], units)\n",
    "    embedder = get_model(input_shape, units, units, layers)\n",
    "    generator = get_model(input_shape, units, units, layers)\n",
    "    supervisor = get_model(latent_code_shape, units, units, layers)\n",
    "    recovery = get_model(latent_code_shape, input_shape[1], units, layers)\n",
    "    discriminator = get_model(latent_code_shape, 1, units, layers)\n",
    "    return {\"embedder\":embedder, \"generator\":generator, \"supervisor\":supervisor, \"recovery\":recovery, \"discriminator\":discriminator}\n",
    "    \n",
    "def timegan_train(embedder, generator, supervisor, recovery, discriminator, epochs, batch_size, learning_rate):\n",
    "    mse = keras.losses.MeanSquaredError()\n",
    "    bce = keras.losses.BinaryCrossentropy()\n",
    "    mini_batch = lambda x, batch_size : x[np.random.permutation(x.shape[0])[:batch_size]]\n",
    "    opt_autoencoder = keras.optimizers.Adam(learning_rate=learning_rate)\n",
    "    opt_supervisor = keras.optimizers.Adam(learning_rate=learning_rate)\n",
    "    opt_generator = keras.optimizers.Adam(learning_rate=learning_rate)\n",
    "    opt_embedder = keras.optimizers.Adam(learning_rate=learning_rate)\n",
    "    opt_discriminator = keras.optimizers.Adam(learning_rate=learning_rate)\n",
    "\n",
    "    #train autoencoder\n",
    "    print(f\"train autoencoder\")\n",
    "    for _ in trange(epochs):\n",
    "        batch = mini_batch(x, batch_size)\n",
    "        with tf.GradientTape() as tape:\n",
    "            y_true = embedder(batch)\n",
    "            y_true = recovery(y_true)\n",
    "            loss = 10 * tf.sqrt(mse(y_true, batch))\n",
    "        var_list = embedder.trainable_variables + recovery.trainable_variables\n",
    "        gradients = tape.gradient(loss, var_list)\n",
    "        opt_autoencoder.apply_gradients(zip(gradients, var_list))\n",
    "\n",
    "    #train supervisor\n",
    "    print(f\"train supervisor\")\n",
    "    for _ in trange(epochs):\n",
    "        batch = mini_batch(x, batch_size)\n",
    "        with tf.GradientTape() as tape:\n",
    "            y_true = embedder(batch)\n",
    "            y_pred = supervisor(y_true)\n",
    "            loss = mse(y_true[:, 1:, :], y_pred[:, :-1, :])\n",
    "        var_list = generator.trainable_variables + supervisor.trainable_variables\n",
    "        gradients = tape.gradient(loss, var_list)\n",
    "        opt_autoencoder.apply_gradients(zip(gradients, var_list))\n",
    "\n",
    "    #joint train\n",
    "    print(f\"joint train\")\n",
    "    for _ in trange(epochs):\n",
    "        for __ in range(2):\n",
    "            batch = mini_batch(x, batch_size)\n",
    "            random_vector = np.random.uniform(size=batch.shape)\n",
    "            #train generator\n",
    "            with tf.GradientTape() as tape:\n",
    "                #supervised loss\n",
    "                y_true = embedder(batch)\n",
    "                y_pred = supervisor(y_true)\n",
    "                supervised_loss = mse(y_true[:, 1:, :], y_pred[:, :-1, :])\n",
    "\n",
    "                #unsupervised loss\n",
    "                y_true = tf.ones((batch_size, x.shape[1], 1))\n",
    "                y_pred = generator(random_vector)\n",
    "                y_pred = supervisor(y_pred)\n",
    "                y_pred = discriminator(y_pred)\n",
    "                unsupervised_loss = bce(y_true, y_pred)\n",
    "\n",
    "                #unsupervised loss - E\n",
    "                y_true = tf.ones((batch_size, x.shape[1], 1))\n",
    "                y_pred = generator(random_vector)\n",
    "                y_pred = discriminator(y_pred)\n",
    "                unsupervised_loss_e = bce(y_true, y_pred)\n",
    "\n",
    "                #moment loss\n",
    "\n",
    "\n"
   ]
  },
  {
   "cell_type": "code",
   "execution_count": 37,
   "metadata": {},
   "outputs": [
    {
     "name": "stdout",
     "output_type": "stream",
     "text": [
      "train autoencoder\n"
     ]
    },
    {
     "name": "stderr",
     "output_type": "stream",
     "text": [
      "  0%|          | 0/100 [00:00<?, ?it/s]"
     ]
    },
    {
     "name": "stdout",
     "output_type": "stream",
     "text": [
      "(32, 200, 2)\n"
     ]
    },
    {
     "name": "stderr",
     "output_type": "stream",
     "text": [
      "  2%|▏         | 2/100 [00:01<00:43,  2.24it/s]"
     ]
    },
    {
     "name": "stdout",
     "output_type": "stream",
     "text": [
      "(32, 200, 2)\n",
      "(32, 200, 2)\n"
     ]
    },
    {
     "name": "stderr",
     "output_type": "stream",
     "text": [
      "  4%|▍         | 4/100 [00:01<00:23,  4.13it/s]"
     ]
    },
    {
     "name": "stdout",
     "output_type": "stream",
     "text": [
      "(32, 200, 2)\n",
      "(32, 200, 2)\n"
     ]
    },
    {
     "name": "stderr",
     "output_type": "stream",
     "text": [
      "  6%|▌         | 6/100 [00:01<00:17,  5.48it/s]"
     ]
    },
    {
     "name": "stdout",
     "output_type": "stream",
     "text": [
      "(32, 200, 2)\n",
      "(32, 200, 2)\n"
     ]
    },
    {
     "name": "stderr",
     "output_type": "stream",
     "text": [
      "  8%|▊         | 8/100 [00:01<00:14,  6.31it/s]"
     ]
    },
    {
     "name": "stdout",
     "output_type": "stream",
     "text": [
      "(32, 200, 2)\n",
      "(32, 200, 2)\n"
     ]
    },
    {
     "name": "stderr",
     "output_type": "stream",
     "text": [
      " 10%|█         | 10/100 [00:02<00:13,  6.72it/s]"
     ]
    },
    {
     "name": "stdout",
     "output_type": "stream",
     "text": [
      "(32, 200, 2)\n",
      "(32, 200, 2)\n"
     ]
    },
    {
     "name": "stderr",
     "output_type": "stream",
     "text": [
      " 12%|█▏        | 12/100 [00:02<00:12,  6.96it/s]"
     ]
    },
    {
     "name": "stdout",
     "output_type": "stream",
     "text": [
      "(32, 200, 2)\n",
      "(32, 200, 2)\n"
     ]
    },
    {
     "name": "stderr",
     "output_type": "stream",
     "text": [
      " 14%|█▍        | 14/100 [00:02<00:12,  7.05it/s]"
     ]
    },
    {
     "name": "stdout",
     "output_type": "stream",
     "text": [
      "(32, 200, 2)\n",
      "(32, 200, 2)\n"
     ]
    },
    {
     "name": "stderr",
     "output_type": "stream",
     "text": [
      " 16%|█▌        | 16/100 [00:02<00:12,  6.93it/s]"
     ]
    },
    {
     "name": "stdout",
     "output_type": "stream",
     "text": [
      "(32, 200, 2)\n",
      "(32, 200, 2)\n"
     ]
    },
    {
     "name": "stderr",
     "output_type": "stream",
     "text": [
      " 18%|█▊        | 18/100 [00:03<00:11,  6.85it/s]"
     ]
    },
    {
     "name": "stdout",
     "output_type": "stream",
     "text": [
      "(32, 200, 2)\n",
      "(32, 200, 2)\n"
     ]
    },
    {
     "name": "stderr",
     "output_type": "stream",
     "text": [
      " 20%|██        | 20/100 [00:03<00:11,  6.94it/s]"
     ]
    },
    {
     "name": "stdout",
     "output_type": "stream",
     "text": [
      "(32, 200, 2)\n",
      "(32, 200, 2)\n"
     ]
    },
    {
     "name": "stderr",
     "output_type": "stream",
     "text": [
      " 22%|██▏       | 22/100 [00:03<00:11,  7.03it/s]"
     ]
    },
    {
     "name": "stdout",
     "output_type": "stream",
     "text": [
      "(32, 200, 2)\n",
      "(32, 200, 2)\n"
     ]
    },
    {
     "name": "stderr",
     "output_type": "stream",
     "text": [
      " 24%|██▍       | 24/100 [00:04<00:10,  7.06it/s]"
     ]
    },
    {
     "name": "stdout",
     "output_type": "stream",
     "text": [
      "(32, 200, 2)\n",
      "(32, 200, 2)\n"
     ]
    },
    {
     "name": "stderr",
     "output_type": "stream",
     "text": [
      " 26%|██▌       | 26/100 [00:04<00:10,  7.09it/s]"
     ]
    },
    {
     "name": "stdout",
     "output_type": "stream",
     "text": [
      "(32, 200, 2)\n",
      "(32, 200, 2)\n"
     ]
    },
    {
     "name": "stderr",
     "output_type": "stream",
     "text": [
      " 28%|██▊       | 28/100 [00:04<00:10,  7.09it/s]"
     ]
    },
    {
     "name": "stdout",
     "output_type": "stream",
     "text": [
      "(32, 200, 2)\n",
      "(32, 200, 2)\n"
     ]
    },
    {
     "name": "stderr",
     "output_type": "stream",
     "text": [
      " 30%|███       | 30/100 [00:05<00:10,  6.75it/s]"
     ]
    },
    {
     "name": "stdout",
     "output_type": "stream",
     "text": [
      "(32, 200, 2)\n",
      "(32, 200, 2)\n"
     ]
    },
    {
     "name": "stderr",
     "output_type": "stream",
     "text": [
      " 32%|███▏      | 32/100 [00:05<00:10,  6.78it/s]"
     ]
    },
    {
     "name": "stdout",
     "output_type": "stream",
     "text": [
      "(32, 200, 2)\n",
      "(32, 200, 2)\n"
     ]
    },
    {
     "name": "stderr",
     "output_type": "stream",
     "text": [
      " 34%|███▍      | 34/100 [00:05<00:09,  6.93it/s]"
     ]
    },
    {
     "name": "stdout",
     "output_type": "stream",
     "text": [
      "(32, 200, 2)\n",
      "(32, 200, 2)\n"
     ]
    },
    {
     "name": "stderr",
     "output_type": "stream",
     "text": [
      " 36%|███▌      | 36/100 [00:05<00:09,  6.99it/s]"
     ]
    },
    {
     "name": "stdout",
     "output_type": "stream",
     "text": [
      "(32, 200, 2)\n",
      "(32, 200, 2)\n"
     ]
    },
    {
     "name": "stderr",
     "output_type": "stream",
     "text": [
      " 38%|███▊      | 38/100 [00:06<00:09,  6.73it/s]"
     ]
    },
    {
     "name": "stdout",
     "output_type": "stream",
     "text": [
      "(32, 200, 2)\n",
      "(32, 200, 2)\n"
     ]
    },
    {
     "name": "stderr",
     "output_type": "stream",
     "text": [
      " 40%|████      | 40/100 [00:06<00:08,  6.80it/s]"
     ]
    },
    {
     "name": "stdout",
     "output_type": "stream",
     "text": [
      "(32, 200, 2)\n",
      "(32, 200, 2)\n"
     ]
    },
    {
     "name": "stderr",
     "output_type": "stream",
     "text": [
      " 42%|████▏     | 42/100 [00:06<00:08,  6.70it/s]"
     ]
    },
    {
     "name": "stdout",
     "output_type": "stream",
     "text": [
      "(32, 200, 2)\n",
      "(32, 200, 2)\n"
     ]
    },
    {
     "name": "stderr",
     "output_type": "stream",
     "text": [
      " 44%|████▍     | 44/100 [00:07<00:08,  6.93it/s]"
     ]
    },
    {
     "name": "stdout",
     "output_type": "stream",
     "text": [
      "(32, 200, 2)\n",
      "(32, 200, 2)\n"
     ]
    },
    {
     "name": "stderr",
     "output_type": "stream",
     "text": [
      " 46%|████▌     | 46/100 [00:07<00:07,  7.08it/s]"
     ]
    },
    {
     "name": "stdout",
     "output_type": "stream",
     "text": [
      "(32, 200, 2)\n",
      "(32, 200, 2)\n"
     ]
    },
    {
     "name": "stderr",
     "output_type": "stream",
     "text": [
      " 48%|████▊     | 48/100 [00:07<00:07,  7.02it/s]"
     ]
    },
    {
     "name": "stdout",
     "output_type": "stream",
     "text": [
      "(32, 200, 2)\n",
      "(32, 200, 2)\n"
     ]
    },
    {
     "name": "stderr",
     "output_type": "stream",
     "text": [
      " 50%|█████     | 50/100 [00:07<00:07,  7.04it/s]"
     ]
    },
    {
     "name": "stdout",
     "output_type": "stream",
     "text": [
      "(32, 200, 2)\n",
      "(32, 200, 2)\n"
     ]
    },
    {
     "name": "stderr",
     "output_type": "stream",
     "text": [
      " 52%|█████▏    | 52/100 [00:08<00:06,  7.01it/s]"
     ]
    },
    {
     "name": "stdout",
     "output_type": "stream",
     "text": [
      "(32, 200, 2)\n",
      "(32, 200, 2)\n"
     ]
    },
    {
     "name": "stderr",
     "output_type": "stream",
     "text": [
      " 54%|█████▍    | 54/100 [00:08<00:06,  7.05it/s]"
     ]
    },
    {
     "name": "stdout",
     "output_type": "stream",
     "text": [
      "(32, 200, 2)\n",
      "(32, 200, 2)\n"
     ]
    },
    {
     "name": "stderr",
     "output_type": "stream",
     "text": [
      " 56%|█████▌    | 56/100 [00:08<00:06,  6.93it/s]"
     ]
    },
    {
     "name": "stdout",
     "output_type": "stream",
     "text": [
      "(32, 200, 2)\n",
      "(32, 200, 2)\n"
     ]
    },
    {
     "name": "stderr",
     "output_type": "stream",
     "text": [
      " 58%|█████▊    | 58/100 [00:09<00:06,  6.94it/s]"
     ]
    },
    {
     "name": "stdout",
     "output_type": "stream",
     "text": [
      "(32, 200, 2)\n",
      "(32, 200, 2)\n"
     ]
    },
    {
     "name": "stderr",
     "output_type": "stream",
     "text": [
      " 60%|██████    | 60/100 [00:09<00:05,  6.80it/s]"
     ]
    },
    {
     "name": "stdout",
     "output_type": "stream",
     "text": [
      "(32, 200, 2)\n",
      "(32, 200, 2)\n"
     ]
    },
    {
     "name": "stderr",
     "output_type": "stream",
     "text": [
      " 62%|██████▏   | 62/100 [00:09<00:05,  6.73it/s]"
     ]
    },
    {
     "name": "stdout",
     "output_type": "stream",
     "text": [
      "(32, 200, 2)\n",
      "(32, 200, 2)\n"
     ]
    },
    {
     "name": "stderr",
     "output_type": "stream",
     "text": [
      " 64%|██████▍   | 64/100 [00:10<00:05,  6.11it/s]"
     ]
    },
    {
     "name": "stdout",
     "output_type": "stream",
     "text": [
      "(32, 200, 2)\n",
      "(32, 200, 2)\n"
     ]
    },
    {
     "name": "stderr",
     "output_type": "stream",
     "text": [
      " 66%|██████▌   | 66/100 [00:10<00:05,  6.37it/s]"
     ]
    },
    {
     "name": "stdout",
     "output_type": "stream",
     "text": [
      "(32, 200, 2)\n",
      "(32, 200, 2)\n"
     ]
    },
    {
     "name": "stderr",
     "output_type": "stream",
     "text": [
      " 68%|██████▊   | 68/100 [00:10<00:04,  6.71it/s]"
     ]
    },
    {
     "name": "stdout",
     "output_type": "stream",
     "text": [
      "(32, 200, 2)\n",
      "(32, 200, 2)\n"
     ]
    },
    {
     "name": "stderr",
     "output_type": "stream",
     "text": [
      " 70%|███████   | 70/100 [00:10<00:04,  6.99it/s]"
     ]
    },
    {
     "name": "stdout",
     "output_type": "stream",
     "text": [
      "(32, 200, 2)\n",
      "(32, 200, 2)\n"
     ]
    },
    {
     "name": "stderr",
     "output_type": "stream",
     "text": [
      " 72%|███████▏  | 72/100 [00:11<00:04,  6.90it/s]"
     ]
    },
    {
     "name": "stdout",
     "output_type": "stream",
     "text": [
      "(32, 200, 2)\n",
      "(32, 200, 2)\n"
     ]
    },
    {
     "name": "stderr",
     "output_type": "stream",
     "text": [
      " 74%|███████▍  | 74/100 [00:11<00:03,  6.95it/s]"
     ]
    },
    {
     "name": "stdout",
     "output_type": "stream",
     "text": [
      "(32, 200, 2)\n",
      "(32, 200, 2)\n"
     ]
    },
    {
     "name": "stderr",
     "output_type": "stream",
     "text": [
      " 76%|███████▌  | 76/100 [00:11<00:03,  7.01it/s]"
     ]
    },
    {
     "name": "stdout",
     "output_type": "stream",
     "text": [
      "(32, 200, 2)\n",
      "(32, 200, 2)\n"
     ]
    },
    {
     "name": "stderr",
     "output_type": "stream",
     "text": [
      " 78%|███████▊  | 78/100 [00:12<00:03,  6.99it/s]"
     ]
    },
    {
     "name": "stdout",
     "output_type": "stream",
     "text": [
      "(32, 200, 2)\n",
      "(32, 200, 2)\n"
     ]
    },
    {
     "name": "stderr",
     "output_type": "stream",
     "text": [
      " 80%|████████  | 80/100 [00:12<00:02,  6.91it/s]"
     ]
    },
    {
     "name": "stdout",
     "output_type": "stream",
     "text": [
      "(32, 200, 2)\n",
      "(32, 200, 2)\n"
     ]
    },
    {
     "name": "stderr",
     "output_type": "stream",
     "text": [
      " 82%|████████▏ | 82/100 [00:12<00:02,  6.98it/s]"
     ]
    },
    {
     "name": "stdout",
     "output_type": "stream",
     "text": [
      "(32, 200, 2)\n",
      "(32, 200, 2)\n"
     ]
    },
    {
     "name": "stderr",
     "output_type": "stream",
     "text": [
      " 84%|████████▍ | 84/100 [00:12<00:02,  7.05it/s]"
     ]
    },
    {
     "name": "stdout",
     "output_type": "stream",
     "text": [
      "(32, 200, 2)\n",
      "(32, 200, 2)\n"
     ]
    },
    {
     "name": "stderr",
     "output_type": "stream",
     "text": [
      " 86%|████████▌ | 86/100 [00:13<00:01,  7.12it/s]"
     ]
    },
    {
     "name": "stdout",
     "output_type": "stream",
     "text": [
      "(32, 200, 2)\n",
      "(32, 200, 2)\n"
     ]
    },
    {
     "name": "stderr",
     "output_type": "stream",
     "text": [
      " 88%|████████▊ | 88/100 [00:13<00:01,  7.02it/s]"
     ]
    },
    {
     "name": "stdout",
     "output_type": "stream",
     "text": [
      "(32, 200, 2)\n",
      "(32, 200, 2)\n"
     ]
    },
    {
     "name": "stderr",
     "output_type": "stream",
     "text": [
      " 90%|█████████ | 90/100 [00:13<00:01,  7.02it/s]"
     ]
    },
    {
     "name": "stdout",
     "output_type": "stream",
     "text": [
      "(32, 200, 2)\n",
      "(32, 200, 2)\n"
     ]
    },
    {
     "name": "stderr",
     "output_type": "stream",
     "text": [
      " 92%|█████████▏| 92/100 [00:14<00:01,  7.00it/s]"
     ]
    },
    {
     "name": "stdout",
     "output_type": "stream",
     "text": [
      "(32, 200, 2)\n",
      "(32, 200, 2)\n"
     ]
    },
    {
     "name": "stderr",
     "output_type": "stream",
     "text": [
      " 94%|█████████▍| 94/100 [00:14<00:00,  7.01it/s]"
     ]
    },
    {
     "name": "stdout",
     "output_type": "stream",
     "text": [
      "(32, 200, 2)\n",
      "(32, 200, 2)\n"
     ]
    },
    {
     "name": "stderr",
     "output_type": "stream",
     "text": [
      " 96%|█████████▌| 96/100 [00:14<00:00,  7.00it/s]"
     ]
    },
    {
     "name": "stdout",
     "output_type": "stream",
     "text": [
      "(32, 200, 2)\n",
      "(32, 200, 2)\n"
     ]
    },
    {
     "name": "stderr",
     "output_type": "stream",
     "text": [
      " 98%|█████████▊| 98/100 [00:14<00:00,  6.91it/s]"
     ]
    },
    {
     "name": "stdout",
     "output_type": "stream",
     "text": [
      "(32, 200, 2)\n",
      "(32, 200, 2)\n"
     ]
    },
    {
     "name": "stderr",
     "output_type": "stream",
     "text": [
      "100%|██████████| 100/100 [00:15<00:00,  6.58it/s]"
     ]
    },
    {
     "name": "stdout",
     "output_type": "stream",
     "text": [
      "(32, 200, 2)\n"
     ]
    },
    {
     "name": "stderr",
     "output_type": "stream",
     "text": [
      "\n"
     ]
    }
   ],
   "source": [
    "timegan = init_timegan(x.shape[1:])\n",
    "timegan_train(**timegan, epochs=100, batch_size=32, learning_rate=0.0005)"
   ]
  },
  {
   "cell_type": "code",
   "execution_count": 12,
   "metadata": {},
   "outputs": [],
   "source": [
    "# target_data = synth_data\n",
    "# save_dir = f\"/home/user/syn{pattern}\"\n",
    "# for i in range(len(synth_data)):\n",
    "#     plot_data2(synth_data[i], f\"{save_dir}/{i}.png\", \"gist_rainbow\",   xlim1=[0, 1], ylim1=[0,1], ylim2=[0,1], ylim3=[0,1])"
   ]
  },
  {
   "cell_type": "code",
   "execution_count": 13,
   "metadata": {},
   "outputs": [],
   "source": [
    "# save_dir = f\"/home/user/compare_images_{pattern}\"\n",
    "# for i in range(len(x)):\n",
    "#     plot_data3(x[i], synth_data[i], f\"{save_dir}/{i}.png\", \"winter_r\")"
   ]
  }
 ],
 "metadata": {
  "kernelspec": {
   "display_name": "Python 3",
   "language": "python",
   "name": "python3"
  },
  "language_info": {
   "codemirror_mode": {
    "name": "ipython",
    "version": 3
   },
   "file_extension": ".py",
   "mimetype": "text/x-python",
   "name": "python",
   "nbconvert_exporter": "python",
   "pygments_lexer": "ipython3",
   "version": "3.8.10"
  },
  "orig_nbformat": 4,
  "vscode": {
   "interpreter": {
    "hash": "916dbcbb3f70747c44a77c7bcd40155683ae19c65e1c03b4aa3499c5328201f1"
   }
  }
 },
 "nbformat": 4,
 "nbformat_minor": 2
}
