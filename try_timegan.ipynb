{
 "cells": [
  {
   "cell_type": "code",
   "execution_count": 154,
   "metadata": {},
   "outputs": [],
   "source": [
    "import pandas as pd\n",
    "import numpy as np\n",
    "import matplotlib.pyplot as plt\n",
    "from matplotlib.collections import LineCollection\n",
    "from scipy import signal\n",
    "import math"
   ]
  },
  {
   "cell_type": "code",
   "execution_count": 169,
   "metadata": {},
   "outputs": [],
   "source": [
    "def load_all_data(dir, filecnt=54):\n",
    "    data = [None]*10\n",
    "    t = np.zeros((10, filecnt), int)\n",
    "    for p in range(10):\n",
    "        d = [None]*filecnt\n",
    "        for i in range(filecnt):\n",
    "            d[i] = np.load(f\"{dir}/{p}/{i+1}.npy\")\n",
    "            t[p,i] = d[i].shape[0]\n",
    "        data[p] = d\n",
    "    return data, t\n",
    "\n",
    "def match_length(d, t:int):\n",
    "    \"\"\"\n",
    "    return (pattern, N, times(t), 2) shape numpy array\n",
    "    \"\"\"\n",
    "    x = np.zeros((len(d), len(d[0]), t, 2), np.float64)\n",
    "    target_timepoints = np.linspace(0, 1, t)\n",
    "    for r in range(len(d)):\n",
    "        for c in range(len(d[r])):\n",
    "            origin_timepoints = np.linspace(0, 1, d[r][c].shape[0])\n",
    "            x[r, c, :, 0] = np.interp(target_timepoints, origin_timepoints, d[r][c][:,0])\n",
    "            x[r, c, :, 1] = np.interp(target_timepoints, origin_timepoints, d[r][c][:,1])\n",
    "    return x      \n",
    "\n",
    "def apply_normalize(d):\n",
    "    for r in range(len(d)):\n",
    "        for c in range(len(d[r])):\n",
    "            d[r][c][:,0] = d[r][c][:,0] - d[r][c][0,0]\n",
    "            d[r][c][:,1] = d[r][c][:,1] - d[r][c][0,1]\n",
    "    \n",
    "def plot_data(d):\n",
    "    plt.figure(figsize=(20,4))\n",
    "    plt.subplot(2,1,1)\n",
    "    gca = plt.gca()\n",
    "    gca.plot(d[:,0])\n",
    "    plt.subplot(2,1,2)\n",
    "    gca = plt.gca()\n",
    "    gca.plot(d[:,1])\n",
    "    plt.tight_layout()\n",
    "    plt.show()\n",
    "\n",
    "#https://stackoverflow.com/questions/10252412/matplotlib-varying-color-of-line-to-capture-natural-time-parameterization-in-da/10253183#10253183\n",
    "# #plot line with color through time\n",
    "def draw_gradation(x, y, axes, cmap_name=\"jet\"):\n",
    "    t = np.linspace(0, 1, x.shape[0])\n",
    "    points = np.array([x, y]).transpose().reshape(-1, 1, 2)\n",
    "    segs = np.concatenate([points[:-1],points[1:]],axis=1)\n",
    "    # make the collection of segments\n",
    "    lc = LineCollection(segs, cmap=plt.get_cmap(cmap_name))\n",
    "    lc.set_array(t) # color the segments by our parameter\n",
    "\n",
    "    # plot the collection\n",
    "    axes.add_collection(lc) # add the collection to the plot\n",
    "    axes.set_xlim(x.min(), x.max()) # line collections don't auto-scale the plot\n",
    "    axes.set_ylim(y.min(), y.max())\n",
    "\n",
    "\n",
    "def plot_data2(d, save=None):\n",
    "    fig, axes = plt.subplot_mosaic(\"abbbb;acccc\", figsize=(20,4))\n",
    "    draw_gradation(d[:,0], d[:,1], axes[\"a\"],cmap_name=\"gist_rainbow\")\n",
    "    draw_gradation(np.arange(d.shape[0]), d[:,0], axes[\"b\"],cmap_name=\"gist_rainbow\")\n",
    "    draw_gradation(np.arange(d.shape[0]), d[:,1], axes[\"c\"],cmap_name=\"gist_rainbow\")\n",
    "\n",
    "    plt.tight_layout()\n",
    "    if save is None:\n",
    "        plt.show()\n",
    "    else:\n",
    "        plt.savefig(save)\n",
    "        plt.close()"
   ]
  },
  {
   "cell_type": "code",
   "execution_count": 51,
   "metadata": {},
   "outputs": [],
   "source": [
    "data, t = load_all_data(\"/home/user/workspace/research/eye-writing/self_data/\")\n",
    "apply_normalize(data)\n",
    "x = match_length(data, 128)"
   ]
  },
  {
   "cell_type": "code",
   "execution_count": 170,
   "metadata": {},
   "outputs": [],
   "source": [
    "# target_data = data\n",
    "# save_dir = \"/home/user/img\"\n",
    "# for r in range(len(target_data)):\n",
    "#     for c in range(len(target_data[r])):\n",
    "#         plot_data2(target_data[r][c], f\"{save_dir}/Pattern_{r}_Index_{c}.png\")"
   ]
  },
  {
   "cell_type": "code",
   "execution_count": null,
   "metadata": {},
   "outputs": [],
   "source": []
  }
 ],
 "metadata": {
  "kernelspec": {
   "display_name": "Python 3",
   "language": "python",
   "name": "python3"
  },
  "language_info": {
   "codemirror_mode": {
    "name": "ipython",
    "version": 3
   },
   "file_extension": ".py",
   "mimetype": "text/x-python",
   "name": "python",
   "nbconvert_exporter": "python",
   "pygments_lexer": "ipython3",
   "version": "3.8.10"
  },
  "orig_nbformat": 4,
  "vscode": {
   "interpreter": {
    "hash": "916dbcbb3f70747c44a77c7bcd40155683ae19c65e1c03b4aa3499c5328201f1"
   }
  }
 },
 "nbformat": 4,
 "nbformat_minor": 2
}
